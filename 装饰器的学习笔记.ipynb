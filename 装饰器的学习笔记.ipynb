{
 "cells": [
  {
   "cell_type": "code",
   "execution_count": 3,
   "metadata": {},
   "outputs": [],
   "source": [
    "def zhuangshiqi(func): #装饰器名称（被装饰函数）\n",
    "    def wall(a):       #若被装饰函数有参数则需要将参数传入该函数\n",
    "        print('1')      #wall()函数需要运行的内容\n",
    "        func(a)         #被装饰函数\n",
    "        print('20')     #wall()函数需要运行的内容\n",
    "    return wall        #返回wall()函数【wall()函数可任意命名】\n",
    "        \n",
    "@zhuangshiqi\n",
    "def open(first):\n",
    "    print('50')\n",
    "    print(first)"
   ]
  },
  {
   "cell_type": "code",
   "execution_count": 10,
   "metadata": {},
   "outputs": [
    {
     "name": "stdout",
     "output_type": "stream",
     "text": [
      "1\n",
      "asadfa\n",
      "20\n"
     ]
    }
   ],
   "source": [
    "@zhuangshiqi\n",
    "def autek(a):\n",
    "    print(a)\n",
    "autek('asadfa')"
   ]
  },
  {
   "cell_type": "code",
   "execution_count": null,
   "metadata": {},
   "outputs": [],
   "source": []
  },
  {
   "cell_type": "code",
   "execution_count": null,
   "metadata": {},
   "outputs": [],
   "source": []
  }
 ],
 "metadata": {
  "kernelspec": {
   "display_name": "Python 3",
   "language": "python",
   "name": "python3"
  },
  "language_info": {
   "codemirror_mode": {
    "name": "ipython",
    "version": 3
   },
   "file_extension": ".py",
   "mimetype": "text/x-python",
   "name": "python",
   "nbconvert_exporter": "python",
   "pygments_lexer": "ipython3",
   "version": "3.7.3"
  }
 },
 "nbformat": 4,
 "nbformat_minor": 2
}
